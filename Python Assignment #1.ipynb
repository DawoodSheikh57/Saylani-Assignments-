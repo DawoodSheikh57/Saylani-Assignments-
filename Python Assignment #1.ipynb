{
 "cells": [
  {
   "cell_type": "code",
   "execution_count": 6,
   "metadata": {},
   "outputs": [
    {
     "name": "stdout",
     "output_type": "stream",
     "text": [
      "Twinkle, winkle, ittle star\n",
      "How I wonder what you are!\n",
      "Up above the world so high\n",
      "Lke the diamonds in the sky\n",
      "Twinkle, Twinkle Little Star\n",
      "how i wonder what you are\n"
     ]
    }
   ],
   "source": [
    "print (\"Twinkle, winkle, ittle star\")\n",
    "print (\"How I wonder what you are!\")\n",
    "print (\"Up above the world so high\")\n",
    "print (\"Lke the diamonds in the sky\")\n",
    "print (\"Twinkle, Twinkle Little Star\")\n",
    "print (\"how i wonder what you are\")"
   ]
  },
  {
   "cell_type": "code",
   "execution_count": 11,
   "metadata": {},
   "outputs": [
    {
     "name": "stdout",
     "output_type": "stream",
     "text": [
      "3.7.4 (default, Aug  9 2019, 18:34:13) [MSC v.1915 64 bit (AMD64)]\n"
     ]
    }
   ],
   "source": [
    "import platform;\n",
    "\n",
    "print(platform.sys.version)"
   ]
  },
  {
   "cell_type": "code",
   "execution_count": 12,
   "metadata": {},
   "outputs": [
    {
     "name": "stdout",
     "output_type": "stream",
     "text": [
      "Today's datetime: 2019-11-05 01:35:52.375605\n"
     ]
    }
   ],
   "source": [
    "from datetime import datetime\n",
    "today = datetime.today()\n",
    "print(\"Today's datetime:\", today)"
   ]
  },
  {
   "cell_type": "code",
   "execution_count": 14,
   "metadata": {},
   "outputs": [
    {
     "name": "stdout",
     "output_type": "stream",
     "text": [
      "radius = 2\n",
      "Area =  12.568\n"
     ]
    }
   ],
   "source": [
    "radius = float(input(\"radius = \"))\n",
    "area = 3.142*radius**2\n",
    "print (\"Area = \" , area)"
   ]
  },
  {
   "cell_type": "code",
   "execution_count": 15,
   "metadata": {},
   "outputs": [
    {
     "name": "stdout",
     "output_type": "stream",
     "text": [
      "YOUR FIRST NAME : sheikh\n",
      "YOUR LAST NAME : dawood\n",
      "sheikh dawood\n"
     ]
    }
   ],
   "source": [
    "\n",
    "first_name = input(\"YOUR FIRST NAME : \")\n",
    "last_name = input(\"YOUR LAST NAME : \")\n",
    "print (first_name , last_name)"
   ]
  },
  {
   "cell_type": "code",
   "execution_count": 16,
   "metadata": {},
   "outputs": [
    {
     "name": "stdout",
     "output_type": "stream",
     "text": [
      "first number : 2\n",
      "second number : 2\n",
      "4\n"
     ]
    }
   ],
   "source": [
    "first_number = int(input(\"first number : \"))\n",
    "second_number = int(input(\"second number : \"))\n",
    "addition = first_number + second_number\n",
    "print(addition)\n"
   ]
  },
  {
   "cell_type": "code",
   "execution_count": null,
   "metadata": {},
   "outputs": [],
   "source": []
  }
 ],
 "metadata": {
  "kernelspec": {
   "display_name": "Python 3",
   "language": "python",
   "name": "python3"
  },
  "language_info": {
   "codemirror_mode": {
    "name": "ipython",
    "version": 3
   },
   "file_extension": ".py",
   "mimetype": "text/x-python",
   "name": "python",
   "nbconvert_exporter": "python",
   "pygments_lexer": "ipython3",
   "version": "3.7.4"
  }
 },
 "nbformat": 4,
 "nbformat_minor": 2
}
